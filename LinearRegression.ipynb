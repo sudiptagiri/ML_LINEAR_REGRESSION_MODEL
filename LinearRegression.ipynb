{
 "cells": [
  {
   "cell_type": "markdown",
   "metadata": {},
   "source": [
    "21/11/2023"
   ]
  },
  {
   "cell_type": "code",
   "execution_count": 1,
   "metadata": {},
   "outputs": [],
   "source": [
    "#import's\n",
    "import pandas as pd\n",
    "import numpy as np\n",
    "import matplotlib.pyplot as plt\n",
    "import seaborn as sns"
   ]
  },
  {
   "cell_type": "code",
   "execution_count": 2,
   "metadata": {},
   "outputs": [
    {
     "data": {
      "text/html": [
       "<div>\n",
       "<style scoped>\n",
       "    .dataframe tbody tr th:only-of-type {\n",
       "        vertical-align: middle;\n",
       "    }\n",
       "\n",
       "    .dataframe tbody tr th {\n",
       "        vertical-align: top;\n",
       "    }\n",
       "\n",
       "    .dataframe thead th {\n",
       "        text-align: right;\n",
       "    }\n",
       "</style>\n",
       "<table border=\"1\" class=\"dataframe\">\n",
       "  <thead>\n",
       "    <tr style=\"text-align: right;\">\n",
       "      <th></th>\n",
       "      <th>TV</th>\n",
       "      <th>radio</th>\n",
       "      <th>newspaper</th>\n",
       "      <th>sales</th>\n",
       "    </tr>\n",
       "  </thead>\n",
       "  <tbody>\n",
       "    <tr>\n",
       "      <th>1</th>\n",
       "      <td>230.1</td>\n",
       "      <td>37.8</td>\n",
       "      <td>69.2</td>\n",
       "      <td>22.1</td>\n",
       "    </tr>\n",
       "    <tr>\n",
       "      <th>2</th>\n",
       "      <td>44.5</td>\n",
       "      <td>39.3</td>\n",
       "      <td>45.1</td>\n",
       "      <td>10.4</td>\n",
       "    </tr>\n",
       "    <tr>\n",
       "      <th>3</th>\n",
       "      <td>17.2</td>\n",
       "      <td>45.9</td>\n",
       "      <td>69.3</td>\n",
       "      <td>9.3</td>\n",
       "    </tr>\n",
       "    <tr>\n",
       "      <th>4</th>\n",
       "      <td>151.5</td>\n",
       "      <td>41.3</td>\n",
       "      <td>58.5</td>\n",
       "      <td>18.5</td>\n",
       "    </tr>\n",
       "    <tr>\n",
       "      <th>5</th>\n",
       "      <td>180.8</td>\n",
       "      <td>10.8</td>\n",
       "      <td>58.4</td>\n",
       "      <td>12.9</td>\n",
       "    </tr>\n",
       "  </tbody>\n",
       "</table>\n",
       "</div>"
      ],
      "text/plain": [
       "      TV  radio  newspaper  sales\n",
       "1  230.1   37.8       69.2   22.1\n",
       "2   44.5   39.3       45.1   10.4\n",
       "3   17.2   45.9       69.3    9.3\n",
       "4  151.5   41.3       58.5   18.5\n",
       "5  180.8   10.8       58.4   12.9"
      ]
     },
     "execution_count": 2,
     "metadata": {},
     "output_type": "execute_result"
    }
   ],
   "source": [
    "#read data into a dataframe\n",
    "data = pd.read_csv(r'Advertising.csv',index_col=0,header=0)\n",
    "data.head()"
   ]
  },
  {
   "cell_type": "code",
   "execution_count": 3,
   "metadata": {},
   "outputs": [
    {
     "name": "stdout",
     "output_type": "stream",
     "text": [
      "<class 'pandas.core.frame.DataFrame'>\n",
      "Int64Index: 200 entries, 1 to 200\n",
      "Data columns (total 4 columns):\n",
      " #   Column     Non-Null Count  Dtype  \n",
      "---  ------     --------------  -----  \n",
      " 0   TV         200 non-null    float64\n",
      " 1   radio      200 non-null    float64\n",
      " 2   newspaper  200 non-null    float64\n",
      " 3   sales      200 non-null    float64\n",
      "dtypes: float64(4)\n",
      "memory usage: 7.8 KB\n",
      "None\n",
      "\n",
      "TV           float64\n",
      "radio        float64\n",
      "newspaper    float64\n",
      "sales        float64\n",
      "dtype: object\n",
      "\n",
      "(200, 4)\n",
      "\n",
      "               TV       radio   newspaper       sales\n",
      "count  200.000000  200.000000  200.000000  200.000000\n",
      "mean   147.042500   23.264000   30.554000   14.022500\n",
      "std     85.854236   14.846809   21.778621    5.217457\n",
      "min      0.700000    0.000000    0.300000    1.600000\n",
      "25%     74.375000    9.975000   12.750000   10.375000\n",
      "50%    149.750000   22.900000   25.750000   12.900000\n",
      "75%    218.825000   36.525000   45.100000   17.400000\n",
      "max    296.400000   49.600000  114.000000   27.000000\n"
     ]
    }
   ],
   "source": [
    "#EDA\n",
    "print(data.info())\n",
    "print()\n",
    "print(data.dtypes)\n",
    "print()\n",
    "print(data.shape)\n",
    "print()\n",
    "print(data.describe())"
   ]
  },
  {
   "cell_type": "markdown",
   "metadata": {},
   "source": [
    "We are not doing feature selection. Since all are important in business point-of-view "
   ]
  },
  {
   "cell_type": "code",
   "execution_count": 4,
   "metadata": {},
   "outputs": [
    {
     "data": {
      "text/plain": [
       "TV           0\n",
       "radio        0\n",
       "newspaper    0\n",
       "sales        0\n",
       "dtype: int64"
      ]
     },
     "execution_count": 4,
     "metadata": {},
     "output_type": "execute_result"
    }
   ],
   "source": [
    "data.isnull().sum()"
   ]
  },
  {
   "cell_type": "markdown",
   "metadata": {},
   "source": [
    "Checking for null value"
   ]
  },
  {
   "cell_type": "code",
   "execution_count": 5,
   "metadata": {},
   "outputs": [
    {
     "data": {
      "text/plain": [
       "<matplotlib.axes._subplots.AxesSubplot at 0x2608e1eabc8>"
      ]
     },
     "execution_count": 5,
     "metadata": {},
     "output_type": "execute_result"
    },
    {
     "data": {
      "image/png": "[encoded data removed]",
      "text/plain": [
       "<Figure size 432x288 with 1 Axes>"
      ]
     },
     "metadata": {
      "needs_background": "light"
     },
     "output_type": "display_data"
    }
   ],
   "source": [
    "data.boxplot()"
   ]
  },
  {
   "cell_type": "markdown",
   "metadata": {},
   "source": [
    "Looking for outliers"
   ]
  },
  {
   "cell_type": "code",
   "execution_count": 6,
   "metadata": {},
   "outputs": [
    {
     "data": {
      "image/png": "[encoded data removed]",
      "text/plain": [
       "<Figure size 432x288 with 1 Axes>"
      ]
     },
     "metadata": {
      "needs_background": "light"
     },
     "output_type": "display_data"
    },
    {
     "data": {
      "image/png": "[encoded data removed]",
      "text/plain": [
       "<Figure size 432x288 with 1 Axes>"
      ]
     },
     "metadata": {
      "needs_background": "light"
     },
     "output_type": "display_data"
    },
    {
     "data": {
      "image/png": "[encoded data removed]",
      "text/plain": [
       "<Figure size 432x288 with 1 Axes>"
      ]
     },
     "metadata": {
      "needs_background": "light"
     },
     "output_type": "display_data"
    },
    {
     "data": {
      "image/png": "[encoded data removed]",
      "text/plain": [
       "<Figure size 432x288 with 1 Axes>"
      ]
     },
     "metadata": {
      "needs_background": "light"
     },
     "output_type": "display_data"
    }
   ],
   "source": [
    "#Assumption 1: There should be no outliers in the data.\n",
    "#Check using for loop and boxplot\n",
    "\n",
    "for i in data.columns:\n",
    "    data.boxplot(column=i)\n",
    "    plt.show()"
   ]
  },
  {
   "cell_type": "markdown",
   "metadata": {},
   "source": [
    "We observe that newspaper have few outliers which can be eliminated before we processed"
   ]
  },
  {
   "cell_type": "code",
   "execution_count": 7,
   "metadata": {},
   "outputs": [],
   "source": [
    "#Threshold value for outliers\n",
    "#data.drop(data[data[\"newspaper\"]>=90].index,axis =0, inplace=True)"
   ]
  },
  {
   "cell_type": "code",
   "execution_count": 8,
   "metadata": {},
   "outputs": [
    {
     "data": {
      "text/plain": [
       "Int64Index([17, 102], dtype='int64')"
      ]
     },
     "execution_count": 8,
     "metadata": {},
     "output_type": "execute_result"
    }
   ],
   "source": [
    "data[data[\"newspaper\"]>=90].index"
   ]
  },
  {
   "cell_type": "code",
   "execution_count": 9,
   "metadata": {},
   "outputs": [
    {
     "data": {
      "image/png": "[encoded data removed]",
      "text/plain": [
       "<Figure size 540x180 with 3 Axes>"
      ]
     },
     "metadata": {
      "needs_background": "light"
     },
     "output_type": "display_data"
    }
   ],
   "source": [
    "#Assumption 2: Assumption of linearity: Every independent variable should have a linear\n",
    "# relationship with the dependent variable\n",
    "\n",
    "sns.pairplot(data,x_vars=['TV','radio','newspaper'],\n",
    "             y_vars=['sales'],kind = 'reg')\n",
    "plt.show()"
   ]
  },
  {
   "cell_type": "markdown",
   "metadata": {},
   "source": [
    "Looking for the relation between variables through linear regression line. Newspaper show's no relation with sales. So we can eliminate the newspaper variable and proceed with TV and radio this show a linear relation with sales variable"
   ]
  },
  {
   "cell_type": "code",
   "execution_count": 10,
   "metadata": {},
   "outputs": [],
   "source": [
    "#data.drop([\"newspaper\"],axis=1,inplace=True)"
   ]
  },
  {
   "cell_type": "code",
   "execution_count": 11,
   "metadata": {},
   "outputs": [
    {
     "data": {
      "text/plain": [
       "Index(['TV', 'radio', 'newspaper', 'sales'], dtype='object')"
      ]
     },
     "execution_count": 11,
     "metadata": {},
     "output_type": "execute_result"
    }
   ],
   "source": [
    "data.columns"
   ]
  },
  {
   "cell_type": "markdown",
   "metadata": {},
   "source": [
    "22/11/2023"
   ]
  },
  {
   "cell_type": "code",
   "execution_count": 12,
   "metadata": {},
   "outputs": [],
   "source": [
    "#create x and y \n",
    "\n",
    "X = data.loc[:,['TV','radio','newspaper']]\n",
    "Y = data.loc[:,'sales']\n",
    "#X=data.iloc[:,0:-1]\n",
    "#Y=data.iloc[:,-1]"
   ]
  },
  {
   "cell_type": "code",
   "execution_count": 13,
   "metadata": {},
   "outputs": [
    {
     "name": "stdout",
     "output_type": "stream",
     "text": [
      "(200, 3)\n",
      "(200,)\n"
     ]
    }
   ],
   "source": [
    "print(X.shape)\n",
    "print(Y.shape)"
   ]
  },
  {
   "cell_type": "code",
   "execution_count": 14,
   "metadata": {},
   "outputs": [],
   "source": [
    "import warnings\n",
    "warnings.filterwarnings(\"ignore\")"
   ]
  },
  {
   "cell_type": "code",
   "execution_count": 15,
   "metadata": {},
   "outputs": [
    {
     "data": {
      "image/png": "[encoded data removed]",
      "text/plain": [
       "<Figure size 432x288 with 1 Axes>"
      ]
     },
     "metadata": {
      "needs_background": "light"
     },
     "output_type": "display_data"
    }
   ],
   "source": [
    "#Assumption of Normality: The dependent variable \n",
    "#should follow an approximate normal distribution\n",
    "sns.distplot(Y)\n",
    "plt.show()"
   ]
  },
  {
   "cell_type": "markdown",
   "metadata": {},
   "source": [
    "This graph show approximate normal distribution. Just a little right skwness can be seen if nesscery we can use log transformation"
   ]
  },
  {
   "cell_type": "code",
   "execution_count": 16,
   "metadata": {},
   "outputs": [],
   "source": [
    "# #Log transformation\n",
    "# import numpy as np\n",
    "# Y_log = np.log(Y)"
   ]
  },
  {
   "cell_type": "markdown",
   "metadata": {},
   "source": [
    "In case y does not follow a normal distribution than we have to perporm log transformation to reduce skewness in Y and go ahead with the Y_log"
   ]
  },
  {
   "cell_type": "markdown",
   "metadata": {},
   "source": [
    "#To see the above code display"
   ]
  },
  {
   "cell_type": "code",
   "execution_count": 17,
   "metadata": {},
   "outputs": [],
   "source": [
    "# sns.distplot(Y_log)\n",
    "# plt.show()"
   ]
  },
  {
   "cell_type": "code",
   "execution_count": 18,
   "metadata": {},
   "outputs": [
    {
     "data": {
      "image/png": "[encoded data removed]",
      "text/plain": [
       "<Figure size 432x288 with 4 Axes>"
      ]
     },
     "metadata": {
      "needs_background": "light"
     },
     "output_type": "display_data"
    }
   ],
   "source": [
    "X.hist(bins=20)\n",
    "plt.show()"
   ]
  },
  {
   "cell_type": "code",
   "execution_count": 19,
   "metadata": {},
   "outputs": [
    {
     "data": {
      "image/png": "[encoded data removed]",
      "text/plain": [
       "<Figure size 432x288 with 1 Axes>"
      ]
     },
     "metadata": {
      "needs_background": "light"
     },
     "output_type": "display_data"
    },
    {
     "data": {
      "image/png": "[encoded data removed]",
      "text/plain": [
       "<Figure size 432x288 with 1 Axes>"
      ]
     },
     "metadata": {
      "needs_background": "light"
     },
     "output_type": "display_data"
    },
    {
     "data": {
      "image/png": "[encoded data removed]",
      "text/plain": [
       "<Figure size 432x288 with 1 Axes>"
      ]
     },
     "metadata": {
      "needs_background": "light"
     },
     "output_type": "display_data"
    }
   ],
   "source": [
    "sns.distplot(X.TV)\n",
    "plt.show()\n",
    "\n",
    "sns.distplot(X.newspaper)\n",
    "plt.show()\n",
    "\n",
    "sns.distplot(X.radio)\n",
    "plt.show()"
   ]
  },
  {
   "cell_type": "code",
   "execution_count": 20,
   "metadata": {},
   "outputs": [
    {
     "name": "stdout",
     "output_type": "stream",
     "text": [
      "TV          -0.069328\n",
      "radio        0.093467\n",
      "newspaper    0.887996\n",
      "dtype: float64\n",
      "newspaper    0.887996\n",
      "dtype: float64\n"
     ]
    }
   ],
   "source": [
    "from scipy.stats import skew\n",
    "#finding the skewness in each variable\n",
    "#apply is to run on multiple index\n",
    "data_num_skew = X.apply(lambda i: skew(i.dropna()))\n",
    "#subsetting the variables that are highly skewed\n",
    "data_num_skewed = data_num_skew[(data_num_skew > .75) | (data_num_skew < -.75)]\n",
    " \n",
    "print(data_num_skew)\n",
    "print(data_num_skewed)\n",
    "import numpy as np\n",
    "# apply log + 1 transformation for all numeric features with skewness over .75\n",
    "X[data_num_skewed.index] = np.log1p(X[data_num_skewed.index])"
   ]
  },
  {
   "cell_type": "markdown",
   "metadata": {},
   "source": [
    "We use log1p if data contain 0. because normal log 0 value is infinite. To get out of infinite we use log1p"
   ]
  },
  {
   "cell_type": "code",
   "execution_count": 21,
   "metadata": {},
   "outputs": [
    {
     "data": {
      "image/png": "[encoded data removed]",
      "text/plain": [
       "<Figure size 432x288 with 1 Axes>"
      ]
     },
     "metadata": {
      "needs_background": "light"
     },
     "output_type": "display_data"
    }
   ],
   "source": [
    "sns.distplot(X.newspaper)\n",
    "plt.show()"
   ]
  },
  {
   "cell_type": "code",
   "execution_count": 22,
   "metadata": {},
   "outputs": [
    {
     "name": "stdout",
     "output_type": "stream",
     "text": [
      "                 TV     radio  newspaper\n",
      "TV         1.000000  0.054809   0.030951\n",
      "radio      0.054809  1.000000   0.251909\n",
      "newspaper  0.030951  0.251909   1.000000\n"
     ]
    },
    {
     "data": {
      "image/png": "[encoded data removed]",
      "text/plain": [
       "<Figure size 432x288 with 2 Axes>"
      ]
     },
     "metadata": {
      "needs_background": "light"
     },
     "output_type": "display_data"
    }
   ],
   "source": [
    "#Assumption of no multicollinearity: There should be no multicollinearity\n",
    "#between the independent variables\n",
    "#multicollinearity is the relationship amongst the multiple independent variables\n",
    "corr_df=X.corr(method=\"pearson\")\n",
    "print(corr_df)\n",
    " \n",
    "sns.heatmap(corr_df,vmax=1.0,vmin=-1.0,annot=True)\n",
    "plt.show()"
   ]
  },
  {
   "cell_type": "code",
   "execution_count": 23,
   "metadata": {},
   "outputs": [
    {
     "data": {
      "text/html": [
       "<div>\n",
       "<style scoped>\n",
       "    .dataframe tbody tr th:only-of-type {\n",
       "        vertical-align: middle;\n",
       "    }\n",
       "\n",
       "    .dataframe tbody tr th {\n",
       "        vertical-align: top;\n",
       "    }\n",
       "\n",
       "    .dataframe thead th {\n",
       "        text-align: right;\n",
       "    }\n",
       "</style>\n",
       "<table border=\"1\" class=\"dataframe\">\n",
       "  <thead>\n",
       "    <tr style=\"text-align: right;\">\n",
       "      <th></th>\n",
       "      <th>features</th>\n",
       "      <th>VIF Factor</th>\n",
       "    </tr>\n",
       "  </thead>\n",
       "  <tbody>\n",
       "    <tr>\n",
       "      <th>0</th>\n",
       "      <td>TV</td>\n",
       "      <td>3.39</td>\n",
       "    </tr>\n",
       "    <tr>\n",
       "      <th>1</th>\n",
       "      <td>radio</td>\n",
       "      <td>3.63</td>\n",
       "    </tr>\n",
       "    <tr>\n",
       "      <th>2</th>\n",
       "      <td>newspaper</td>\n",
       "      <td>5.44</td>\n",
       "    </tr>\n",
       "  </tbody>\n",
       "</table>\n",
       "</div>"
      ],
      "text/plain": [
       "    features  VIF Factor\n",
       "0         TV        3.39\n",
       "1      radio        3.63\n",
       "2  newspaper        5.44"
      ]
     },
     "execution_count": 23,
     "metadata": {},
     "output_type": "execute_result"
    }
   ],
   "source": [
    "from statsmodels.stats.outliers_influence import variance_inflation_factor as vif\n",
    " \n",
    "vif_df = pd.DataFrame()\n",
    "vif_df[\"features\"] = X.columns\n",
    "vif_df[\"VIF Factor\"] = [vif(X.values, i) for i in range(X.shape[1])]\n",
    "vif_df.round(2)"
   ]
  },
  {
   "cell_type": "code",
   "execution_count": 24,
   "metadata": {},
   "outputs": [],
   "source": [
    "#X.drop(\"newspaper\",axis=1,inplace=True)\n",
    "#return the VIF code"
   ]
  },
  {
   "cell_type": "markdown",
   "metadata": {},
   "source": [
    "Trying to build the model \n",
    "\n",
    "Before bulding the model we have to split the data into train and test, if we don't have the testing data "
   ]
  },
  {
   "cell_type": "code",
   "execution_count": 25,
   "metadata": {},
   "outputs": [],
   "source": [
    "from sklearn.model_selection import train_test_split\n",
    " \n",
    "#Split the data into test and train\n",
    "X_train, X_test, Y_train, Y_test = train_test_split(X, Y, test_size=0.2, \n",
    "                                                    random_state=10) "
   ]
  },
  {
   "cell_type": "code",
   "execution_count": 26,
   "metadata": {},
   "outputs": [
    {
     "name": "stdout",
     "output_type": "stream",
     "text": [
      "(160, 3)\n",
      "(40, 3)\n",
      "(160,)\n",
      "(40,)\n"
     ]
    }
   ],
   "source": [
    "print(X_train.shape)\n",
    "print(X_test.shape)\n",
    "print(Y_train.shape)\n",
    "print(Y_test.shape)\n",
    "#print(\"Percent of train data\",X_train.shape[0]/X.shape[0]*100)"
   ]
  },
  {
   "cell_type": "code",
   "execution_count": 27,
   "metadata": {},
   "outputs": [],
   "source": [
    "#>1000 --> test_size = 0.3\n",
    "#<1000 --> test_size = 0.2"
   ]
  },
  {
   "cell_type": "code",
   "execution_count": 28,
   "metadata": {},
   "outputs": [
    {
     "name": "stdout",
     "output_type": "stream",
     "text": [
      "3.3532913858151474\n",
      "[ 0.0437425   0.19303708 -0.04895137]\n"
     ]
    }
   ],
   "source": [
    "from sklearn.linear_model import LinearRegression\n",
    "#create a model object\n",
    "lm = LinearRegression()\n",
    "#train the model object\n",
    "lm.fit(X_train,Y_train)\n",
    "\n",
    "#print intercept and coefficients\n",
    "print(lm.intercept_)\n",
    "print(lm.coef_)"
   ]
  },
  {
   "cell_type": "code",
   "execution_count": 29,
   "metadata": {},
   "outputs": [
    {
     "name": "stdout",
     "output_type": "stream",
     "text": [
      "[('TV', 0.04374250157742166), ('radio', 0.1930370789734531), ('newspaper', -0.048951368222487836)]\n"
     ]
    }
   ],
   "source": [
    "#pair the feature names with the coefficients\n",
    "print(list(zip(X.columns, lm.coef_)))"
   ]
  },
  {
   "cell_type": "code",
   "execution_count": 30,
   "metadata": {},
   "outputs": [
    {
     "name": "stdout",
     "output_type": "stream",
     "text": [
      "46.334957385815144\n"
     ]
    }
   ],
   "source": [
    "#Predecting the investing value\n",
    "X1=100\n",
    "X2=200\n",
    "X3=np.log1p(0)\n",
    "Y_pred=3.3532913858151474+(0.0437425*X1)+(0.19303708*X2)+(-0.04895137*X3)\n",
    "print(Y_pred)"
   ]
  },
  {
   "cell_type": "code",
   "execution_count": 31,
   "metadata": {},
   "outputs": [
    {
     "name": "stdout",
     "output_type": "stream",
     "text": [
      "[18.15026866 12.96136899 18.05815332 23.66025079 20.68751041 14.26325872\n",
      " 14.92774472 21.38847375 21.14752911 12.75788534 23.99735583  7.20632737\n",
      " 12.30777109 19.22813333 19.41581583 13.44985803 19.62619644  9.24667496\n",
      " 21.1052867  20.87838433 15.52611251 10.91695579 22.82910679 15.82915597\n",
      " 17.40742204  8.17170435 11.88738387 12.69866637 21.71275044  7.94920205\n",
      " 12.49118989 20.43292079  4.71443086  4.72126238 16.7504848  15.74384945\n",
      "  6.74775596 17.73750244  9.01170001 13.60841593]\n"
     ]
    }
   ],
   "source": [
    "#Predict using the model\n",
    "Y_pred = lm.predict(X_test)\n",
    "print(Y_pred)"
   ]
  },
  {
   "cell_type": "markdown",
   "metadata": {},
   "source": [
    "23/11/2023\n"
   ]
  },
  {
   "cell_type": "code",
   "execution_count": 32,
   "metadata": {},
   "outputs": [],
   "source": [
    "new_df=pd.DataFrame()\n",
    "new_df=X_test.copy()\n",
    " \n",
    "new_df[\"Actual sales\"]=Y_test\n",
    "new_df[\"Predicted sales\"]=Y_pred\n",
    "new_df = new_df.reset_index().drop(\"index\",axis=1)"
   ]
  },
  {
   "cell_type": "code",
   "execution_count": 33,
   "metadata": {},
   "outputs": [
    {
     "data": {
      "text/html": [
       "<div>\n",
       "<style scoped>\n",
       "    .dataframe tbody tr th:only-of-type {\n",
       "        vertical-align: middle;\n",
       "    }\n",
       "\n",
       "    .dataframe tbody tr th {\n",
       "        vertical-align: top;\n",
       "    }\n",
       "\n",
       "    .dataframe thead th {\n",
       "        text-align: right;\n",
       "    }\n",
       "</style>\n",
       "<table border=\"1\" class=\"dataframe\">\n",
       "  <thead>\n",
       "    <tr style=\"text-align: right;\">\n",
       "      <th></th>\n",
       "      <th>TV</th>\n",
       "      <th>radio</th>\n",
       "      <th>newspaper</th>\n",
       "      <th>Actual sales</th>\n",
       "      <th>Predicted sales</th>\n",
       "    </tr>\n",
       "  </thead>\n",
       "  <tbody>\n",
       "    <tr>\n",
       "      <th>0</th>\n",
       "      <td>210.7</td>\n",
       "      <td>29.5</td>\n",
       "      <td>2.332144</td>\n",
       "      <td>18.4</td>\n",
       "      <td>18.150269</td>\n",
       "    </tr>\n",
       "    <tr>\n",
       "      <th>1</th>\n",
       "      <td>8.7</td>\n",
       "      <td>48.9</td>\n",
       "      <td>4.330733</td>\n",
       "      <td>7.2</td>\n",
       "      <td>12.961369</td>\n",
       "    </tr>\n",
       "    <tr>\n",
       "      <th>2</th>\n",
       "      <td>218.4</td>\n",
       "      <td>27.7</td>\n",
       "      <td>3.996364</td>\n",
       "      <td>18.0</td>\n",
       "      <td>18.058153</td>\n",
       "    </tr>\n",
       "    <tr>\n",
       "      <th>3</th>\n",
       "      <td>283.6</td>\n",
       "      <td>42.0</td>\n",
       "      <td>4.207673</td>\n",
       "      <td>25.5</td>\n",
       "      <td>23.660251</td>\n",
       "    </tr>\n",
       "    <tr>\n",
       "      <th>4</th>\n",
       "      <td>216.4</td>\n",
       "      <td>41.7</td>\n",
       "      <td>3.703768</td>\n",
       "      <td>22.6</td>\n",
       "      <td>20.687510</td>\n",
       "    </tr>\n",
       "    <tr>\n",
       "      <th>5</th>\n",
       "      <td>147.3</td>\n",
       "      <td>23.9</td>\n",
       "      <td>3.000720</td>\n",
       "      <td>14.6</td>\n",
       "      <td>14.263259</td>\n",
       "    </tr>\n",
       "    <tr>\n",
       "      <th>6</th>\n",
       "      <td>188.4</td>\n",
       "      <td>18.1</td>\n",
       "      <td>3.280911</td>\n",
       "      <td>14.9</td>\n",
       "      <td>14.927745</td>\n",
       "    </tr>\n",
       "    <tr>\n",
       "      <th>7</th>\n",
       "      <td>198.9</td>\n",
       "      <td>49.4</td>\n",
       "      <td>4.110874</td>\n",
       "      <td>23.7</td>\n",
       "      <td>21.388474</td>\n",
       "    </tr>\n",
       "    <tr>\n",
       "      <th>8</th>\n",
       "      <td>216.8</td>\n",
       "      <td>43.9</td>\n",
       "      <td>3.339322</td>\n",
       "      <td>22.3</td>\n",
       "      <td>21.147529</td>\n",
       "    </tr>\n",
       "    <tr>\n",
       "      <th>9</th>\n",
       "      <td>17.2</td>\n",
       "      <td>45.9</td>\n",
       "      <td>4.252772</td>\n",
       "      <td>9.3</td>\n",
       "      <td>12.757885</td>\n",
       "    </tr>\n",
       "    <tr>\n",
       "      <th>10</th>\n",
       "      <td>289.7</td>\n",
       "      <td>42.3</td>\n",
       "      <td>3.955082</td>\n",
       "      <td>25.4</td>\n",
       "      <td>23.997356</td>\n",
       "    </tr>\n",
       "    <tr>\n",
       "      <th>11</th>\n",
       "      <td>66.1</td>\n",
       "      <td>5.8</td>\n",
       "      <td>3.226844</td>\n",
       "      <td>8.6</td>\n",
       "      <td>7.206327</td>\n",
       "    </tr>\n",
       "    <tr>\n",
       "      <th>12</th>\n",
       "      <td>16.9</td>\n",
       "      <td>43.7</td>\n",
       "      <td>4.504244</td>\n",
       "      <td>8.7</td>\n",
       "      <td>12.307771</td>\n",
       "    </tr>\n",
       "    <tr>\n",
       "      <th>13</th>\n",
       "      <td>220.5</td>\n",
       "      <td>33.2</td>\n",
       "      <td>3.660994</td>\n",
       "      <td>20.1</td>\n",
       "      <td>19.228133</td>\n",
       "    </tr>\n",
       "    <tr>\n",
       "      <th>14</th>\n",
       "      <td>229.5</td>\n",
       "      <td>32.3</td>\n",
       "      <td>4.320151</td>\n",
       "      <td>19.7</td>\n",
       "      <td>19.415816</td>\n",
       "    </tr>\n",
       "    <tr>\n",
       "      <th>15</th>\n",
       "      <td>102.7</td>\n",
       "      <td>29.6</td>\n",
       "      <td>2.240710</td>\n",
       "      <td>14.0</td>\n",
       "      <td>13.449858</td>\n",
       "    </tr>\n",
       "    <tr>\n",
       "      <th>16</th>\n",
       "      <td>255.4</td>\n",
       "      <td>26.9</td>\n",
       "      <td>1.871802</td>\n",
       "      <td>19.8</td>\n",
       "      <td>19.626196</td>\n",
       "    </tr>\n",
       "    <tr>\n",
       "      <th>17</th>\n",
       "      <td>5.4</td>\n",
       "      <td>29.9</td>\n",
       "      <td>2.341806</td>\n",
       "      <td>5.3</td>\n",
       "      <td>9.246675</td>\n",
       "    </tr>\n",
       "    <tr>\n",
       "      <th>18</th>\n",
       "      <td>241.7</td>\n",
       "      <td>38.0</td>\n",
       "      <td>3.186353</td>\n",
       "      <td>21.8</td>\n",
       "      <td>21.105287</td>\n",
       "    </tr>\n",
       "    <tr>\n",
       "      <th>19</th>\n",
       "      <td>205.0</td>\n",
       "      <td>45.1</td>\n",
       "      <td>3.025291</td>\n",
       "      <td>22.6</td>\n",
       "      <td>20.878384</td>\n",
       "    </tr>\n",
       "    <tr>\n",
       "      <th>20</th>\n",
       "      <td>187.8</td>\n",
       "      <td>21.1</td>\n",
       "      <td>2.351375</td>\n",
       "      <td>15.6</td>\n",
       "      <td>15.526113</td>\n",
       "    </tr>\n",
       "    <tr>\n",
       "      <th>21</th>\n",
       "      <td>0.7</td>\n",
       "      <td>39.6</td>\n",
       "      <td>2.272126</td>\n",
       "      <td>1.6</td>\n",
       "      <td>10.916956</td>\n",
       "    </tr>\n",
       "    <tr>\n",
       "      <th>22</th>\n",
       "      <td>261.3</td>\n",
       "      <td>42.7</td>\n",
       "      <td>4.019980</td>\n",
       "      <td>24.2</td>\n",
       "      <td>22.829107</td>\n",
       "    </tr>\n",
       "    <tr>\n",
       "      <th>23</th>\n",
       "      <td>110.7</td>\n",
       "      <td>40.6</td>\n",
       "      <td>4.162003</td>\n",
       "      <td>16.0</td>\n",
       "      <td>15.829156</td>\n",
       "    </tr>\n",
       "    <tr>\n",
       "      <th>24</th>\n",
       "      <td>280.2</td>\n",
       "      <td>10.1</td>\n",
       "      <td>3.109061</td>\n",
       "      <td>14.8</td>\n",
       "      <td>17.407422</td>\n",
       "    </tr>\n",
       "    <tr>\n",
       "      <th>25</th>\n",
       "      <td>18.8</td>\n",
       "      <td>21.7</td>\n",
       "      <td>3.939638</td>\n",
       "      <td>7.0</td>\n",
       "      <td>8.171704</td>\n",
       "    </tr>\n",
       "    <tr>\n",
       "      <th>26</th>\n",
       "      <td>25.6</td>\n",
       "      <td>39.0</td>\n",
       "      <td>2.332144</td>\n",
       "      <td>9.5</td>\n",
       "      <td>11.887384</td>\n",
       "    </tr>\n",
       "    <tr>\n",
       "      <th>27</th>\n",
       "      <td>44.5</td>\n",
       "      <td>39.3</td>\n",
       "      <td>3.830813</td>\n",
       "      <td>10.4</td>\n",
       "      <td>12.698666</td>\n",
       "    </tr>\n",
       "    <tr>\n",
       "      <th>28</th>\n",
       "      <td>239.9</td>\n",
       "      <td>41.5</td>\n",
       "      <td>2.970414</td>\n",
       "      <td>23.2</td>\n",
       "      <td>21.712750</td>\n",
       "    </tr>\n",
       "    <tr>\n",
       "      <th>29</th>\n",
       "      <td>19.6</td>\n",
       "      <td>20.1</td>\n",
       "      <td>2.890372</td>\n",
       "      <td>7.6</td>\n",
       "      <td>7.949202</td>\n",
       "    </tr>\n",
       "    <tr>\n",
       "      <th>30</th>\n",
       "      <td>131.7</td>\n",
       "      <td>18.4</td>\n",
       "      <td>3.572346</td>\n",
       "      <td>12.9</td>\n",
       "      <td>12.491190</td>\n",
       "    </tr>\n",
       "    <tr>\n",
       "      <th>31</th>\n",
       "      <td>228.0</td>\n",
       "      <td>37.7</td>\n",
       "      <td>3.496508</td>\n",
       "      <td>21.5</td>\n",
       "      <td>20.432921</td>\n",
       "    </tr>\n",
       "    <tr>\n",
       "      <th>32</th>\n",
       "      <td>27.5</td>\n",
       "      <td>1.6</td>\n",
       "      <td>3.077312</td>\n",
       "      <td>6.9</td>\n",
       "      <td>4.714431</td>\n",
       "    </tr>\n",
       "    <tr>\n",
       "      <th>33</th>\n",
       "      <td>28.6</td>\n",
       "      <td>1.5</td>\n",
       "      <td>3.526361</td>\n",
       "      <td>7.3</td>\n",
       "      <td>4.721262</td>\n",
       "    </tr>\n",
       "    <tr>\n",
       "      <th>34</th>\n",
       "      <td>290.7</td>\n",
       "      <td>4.1</td>\n",
       "      <td>2.251292</td>\n",
       "      <td>12.8</td>\n",
       "      <td>16.750485</td>\n",
       "    </tr>\n",
       "    <tr>\n",
       "      <th>35</th>\n",
       "      <td>276.7</td>\n",
       "      <td>2.3</td>\n",
       "      <td>3.206803</td>\n",
       "      <td>11.8</td>\n",
       "      <td>15.743849</td>\n",
       "    </tr>\n",
       "    <tr>\n",
       "      <th>36</th>\n",
       "      <td>80.2</td>\n",
       "      <td>0.0</td>\n",
       "      <td>2.322388</td>\n",
       "      <td>8.8</td>\n",
       "      <td>6.747756</td>\n",
       "    </tr>\n",
       "    <tr>\n",
       "      <th>37</th>\n",
       "      <td>284.3</td>\n",
       "      <td>10.6</td>\n",
       "      <td>2.001480</td>\n",
       "      <td>15.0</td>\n",
       "      <td>17.737502</td>\n",
       "    </tr>\n",
       "    <tr>\n",
       "      <th>38</th>\n",
       "      <td>89.7</td>\n",
       "      <td>9.9</td>\n",
       "      <td>3.602777</td>\n",
       "      <td>10.6</td>\n",
       "      <td>9.011700</td>\n",
       "    </tr>\n",
       "    <tr>\n",
       "      <th>39</th>\n",
       "      <td>222.4</td>\n",
       "      <td>3.4</td>\n",
       "      <td>2.646175</td>\n",
       "      <td>11.5</td>\n",
       "      <td>13.608416</td>\n",
       "    </tr>\n",
       "  </tbody>\n",
       "</table>\n",
       "</div>"
      ],
      "text/plain": [
       "       TV  radio  newspaper  Actual sales  Predicted sales\n",
       "0   210.7   29.5   2.332144          18.4        18.150269\n",
       "1     8.7   48.9   4.330733           7.2        12.961369\n",
       "2   218.4   27.7   3.996364          18.0        18.058153\n",
       "3   283.6   42.0   4.207673          25.5        23.660251\n",
       "4   216.4   41.7   3.703768          22.6        20.687510\n",
       "5   147.3   23.9   3.000720          14.6        14.263259\n",
       "6   188.4   18.1   3.280911          14.9        14.927745\n",
       "7   198.9   49.4   4.110874          23.7        21.388474\n",
       "8   216.8   43.9   3.339322          22.3        21.147529\n",
       "9    17.2   45.9   4.252772           9.3        12.757885\n",
       "10  289.7   42.3   3.955082          25.4        23.997356\n",
       "11   66.1    5.8   3.226844           8.6         7.206327\n",
       "12   16.9   43.7   4.504244           8.7        12.307771\n",
       "13  220.5   33.2   3.660994          20.1        19.228133\n",
       "14  229.5   32.3   4.320151          19.7        19.415816\n",
       "15  102.7   29.6   2.240710          14.0        13.449858\n",
       "16  255.4   26.9   1.871802          19.8        19.626196\n",
       "17    5.4   29.9   2.341806           5.3         9.246675\n",
       "18  241.7   38.0   3.186353          21.8        21.105287\n",
       "19  205.0   45.1   3.025291          22.6        20.878384\n",
       "20  187.8   21.1   2.351375          15.6        15.526113\n",
       "21    0.7   39.6   2.272126           1.6        10.916956\n",
       "22  261.3   42.7   4.019980          24.2        22.829107\n",
       "23  110.7   40.6   4.162003          16.0        15.829156\n",
       "24  280.2   10.1   3.109061          14.8        17.407422\n",
       "25   18.8   21.7   3.939638           7.0         8.171704\n",
       "26   25.6   39.0   2.332144           9.5        11.887384\n",
       "27   44.5   39.3   3.830813          10.4        12.698666\n",
       "28  239.9   41.5   2.970414          23.2        21.712750\n",
       "29   19.6   20.1   2.890372           7.6         7.949202\n",
       "30  131.7   18.4   3.572346          12.9        12.491190\n",
       "31  228.0   37.7   3.496508          21.5        20.432921\n",
       "32   27.5    1.6   3.077312           6.9         4.714431\n",
       "33   28.6    1.5   3.526361           7.3         4.721262\n",
       "34  290.7    4.1   2.251292          12.8        16.750485\n",
       "35  276.7    2.3   3.206803          11.8        15.743849\n",
       "36   80.2    0.0   2.322388           8.8         6.747756\n",
       "37  284.3   10.6   2.001480          15.0        17.737502\n",
       "38   89.7    9.9   3.602777          10.6         9.011700\n",
       "39  222.4    3.4   2.646175          11.5        13.608416"
      ]
     },
     "execution_count": 33,
     "metadata": {},
     "output_type": "execute_result"
    }
   ],
   "source": [
    "new_df"
   ]
  },
  {
   "cell_type": "code",
   "execution_count": 34,
   "metadata": {},
   "outputs": [
    {
     "data": {
      "image/png": "[encoded data removed]",
      "text/plain": [
       "<Figure size 432x288 with 1 Axes>"
      ]
     },
     "metadata": {
      "needs_background": "light"
     },
     "output_type": "display_data"
    }
   ],
   "source": [
    "new_df[\"Actual sales\"].plot(color='blue')\n",
    "new_df[\"Predicted sales\"].plot(color='orange')\n",
    "plt.show()"
   ]
  },
  {
   "cell_type": "code",
   "execution_count": 35,
   "metadata": {},
   "outputs": [
    {
     "data": {
      "text/plain": [
       "0.9208986647500219"
      ]
     },
     "execution_count": 35,
     "metadata": {},
     "output_type": "execute_result"
    }
   ],
   "source": [
    "lm.score(X_train, Y_train)\n",
    "#Y_pred=lm.predict(X_train)\n",
    "#score=r2_score(Y_train,Y_pred)"
   ]
  },
  {
   "cell_type": "code",
   "execution_count": 36,
   "metadata": {},
   "outputs": [
    {
     "name": "stdout",
     "output_type": "stream",
     "text": [
      "R-squared: 0.834801071903532\n",
      "RMSE: 2.59297691109306\n",
      "Adj R-square: 0.8322725168816474\n"
     ]
    }
   ],
   "source": [
    "from sklearn.metrics import r2_score,mean_squared_error\n",
    "import numpy as np\n",
    " \n",
    "r2=r2_score(Y_test,Y_pred)\n",
    "print(\"R-squared:\",r2)\n",
    " \n",
    "rmse=np.sqrt(mean_squared_error(Y_test,Y_pred))\n",
    "print(\"RMSE:\",rmse)\n",
    " \n",
    "adjusted_r_squared = 1 - (1-r2)*(len(Y)-1)/(len(Y)-X.shape[1]-1)\n",
    "print(\"Adj R-square:\",adjusted_r_squared)"
   ]
  },
  {
   "cell_type": "markdown",
   "metadata": {},
   "source": [
    "As the R-Squared value is closer to 1 so it's an good model. To prove it RMSE value is 2.5 which is between 1.6 and 25.5, the RMSE value is closer to minimum value."
   ]
  },
  {
   "cell_type": "code",
   "execution_count": 37,
   "metadata": {},
   "outputs": [
    {
     "name": "stdout",
     "output_type": "stream",
     "text": [
      "1.6\n",
      "25.5\n"
     ]
    }
   ],
   "source": [
    "print(Y_test.min())\n",
    "print(Y_test.max())"
   ]
  },
  {
   "cell_type": "code",
   "execution_count": 38,
   "metadata": {},
   "outputs": [
    {
     "data": {
      "text/html": [
       "<div>\n",
       "<style scoped>\n",
       "    .dataframe tbody tr th:only-of-type {\n",
       "        vertical-align: middle;\n",
       "    }\n",
       "\n",
       "    .dataframe tbody tr th {\n",
       "        vertical-align: top;\n",
       "    }\n",
       "\n",
       "    .dataframe thead th {\n",
       "        text-align: right;\n",
       "    }\n",
       "</style>\n",
       "<table border=\"1\" class=\"dataframe\">\n",
       "  <thead>\n",
       "    <tr style=\"text-align: right;\">\n",
       "      <th></th>\n",
       "      <th>TV</th>\n",
       "      <th>radio</th>\n",
       "      <th>newspaper</th>\n",
       "      <th>Actual sales</th>\n",
       "      <th>Predicted sales</th>\n",
       "      <th>Residual</th>\n",
       "    </tr>\n",
       "  </thead>\n",
       "  <tbody>\n",
       "    <tr>\n",
       "      <th>0</th>\n",
       "      <td>210.7</td>\n",
       "      <td>29.5</td>\n",
       "      <td>2.332144</td>\n",
       "      <td>18.4</td>\n",
       "      <td>18.150269</td>\n",
       "      <td>0.249731</td>\n",
       "    </tr>\n",
       "    <tr>\n",
       "      <th>1</th>\n",
       "      <td>8.7</td>\n",
       "      <td>48.9</td>\n",
       "      <td>4.330733</td>\n",
       "      <td>7.2</td>\n",
       "      <td>12.961369</td>\n",
       "      <td>-5.761369</td>\n",
       "    </tr>\n",
       "    <tr>\n",
       "      <th>2</th>\n",
       "      <td>218.4</td>\n",
       "      <td>27.7</td>\n",
       "      <td>3.996364</td>\n",
       "      <td>18.0</td>\n",
       "      <td>18.058153</td>\n",
       "      <td>-0.058153</td>\n",
       "    </tr>\n",
       "    <tr>\n",
       "      <th>3</th>\n",
       "      <td>283.6</td>\n",
       "      <td>42.0</td>\n",
       "      <td>4.207673</td>\n",
       "      <td>25.5</td>\n",
       "      <td>23.660251</td>\n",
       "      <td>1.839749</td>\n",
       "    </tr>\n",
       "    <tr>\n",
       "      <th>4</th>\n",
       "      <td>216.4</td>\n",
       "      <td>41.7</td>\n",
       "      <td>3.703768</td>\n",
       "      <td>22.6</td>\n",
       "      <td>20.687510</td>\n",
       "      <td>1.912490</td>\n",
       "    </tr>\n",
       "  </tbody>\n",
       "</table>\n",
       "</div>"
      ],
      "text/plain": [
       "      TV  radio  newspaper  Actual sales  Predicted sales  Residual\n",
       "0  210.7   29.5   2.332144          18.4        18.150269  0.249731\n",
       "1    8.7   48.9   4.330733           7.2        12.961369 -5.761369\n",
       "2  218.4   27.7   3.996364          18.0        18.058153 -0.058153\n",
       "3  283.6   42.0   4.207673          25.5        23.660251  1.839749\n",
       "4  216.4   41.7   3.703768          22.6        20.687510  1.912490"
      ]
     },
     "execution_count": 38,
     "metadata": {},
     "output_type": "execute_result"
    }
   ],
   "source": [
    "new_df[\"Residual\"]=new_df[\"Actual sales\"]-new_df[\"Predicted sales\"]\n",
    "new_df.to_excel(\"Sales Prediction.xlsx\",header=True,index=True)\n",
    "new_df.head()"
   ]
  },
  {
   "cell_type": "markdown",
   "metadata": {},
   "source": [
    "24/11/2023"
   ]
  },
  {
   "cell_type": "code",
   "execution_count": 39,
   "metadata": {},
   "outputs": [],
   "source": [
    "from sklearn.model_selection import train_test_split\n",
    " \n",
    "#Split the data into test and train\n",
    "X_train, X_test, Y_train, Y_test = train_test_split(X, Y, test_size=0.2, \n",
    "                                                    random_state=10)"
   ]
  },
  {
   "cell_type": "code",
   "execution_count": 40,
   "metadata": {},
   "outputs": [
    {
     "name": "stdout",
     "output_type": "stream",
     "text": [
      "3.3522471725966003\n",
      "[ 0.04374234  0.19302603 -0.04853131]\n"
     ]
    }
   ],
   "source": [
    "from sklearn.linear_model import Ridge\n",
    "#create a model object\n",
    "rid = Ridge()\n",
    "#train the model object\n",
    "rid.fit(X_train,Y_train)\n",
    "\n",
    "#print intercept and coefficients\n",
    "print(rid.intercept_)\n",
    "print(rid.coef_)"
   ]
  },
  {
   "cell_type": "code",
   "execution_count": 41,
   "metadata": {},
   "outputs": [],
   "source": [
    "Y_pred = rid.predict(X_test)"
   ]
  },
  {
   "cell_type": "code",
   "execution_count": 42,
   "metadata": {},
   "outputs": [
    {
     "name": "stdout",
     "output_type": "stream",
     "text": [
      "0.8348082644975934\n",
      "2.592920462683998\n",
      "0.832279819566434\n"
     ]
    }
   ],
   "source": [
    "from sklearn.metrics import r2_score,mean_squared_error\n",
    "import numpy as np\n",
    " \n",
    "r2=r2_score(Y_test,Y_pred)\n",
    "print(r2)\n",
    " \n",
    "rmse=np.sqrt(mean_squared_error(Y_test,Y_pred))\n",
    "print(rmse)\n",
    " \n",
    "adjusted_r_squared = 1 - (1-r2)*(len(Y)-1)/(len(Y)-X.shape[1]-1)\n",
    "print(adjusted_r_squared)"
   ]
  },
  {
   "cell_type": "code",
   "execution_count": null,
   "metadata": {},
   "outputs": [],
   "source": []
  },
  {
   "cell_type": "code",
   "execution_count": 43,
   "metadata": {},
   "outputs": [
    {
     "name": "stdout",
     "output_type": "stream",
     "text": [
      "3.3367940582203186\n",
      "[ 0.04362374  0.18766033 -0.        ]\n"
     ]
    }
   ],
   "source": [
    "from sklearn.linear_model import Lasso\n",
    "#create a model object\n",
    "las = Lasso()\n",
    "#train the model object\n",
    "las.fit(X_train,Y_train)\n",
    "\n",
    "#print intercept and coefficients\n",
    "print(las.intercept_)\n",
    "print(las.coef_)"
   ]
  },
  {
   "cell_type": "code",
   "execution_count": 44,
   "metadata": {},
   "outputs": [],
   "source": [
    "Y_pred = las.predict(X_test)"
   ]
  },
  {
   "cell_type": "code",
   "execution_count": 45,
   "metadata": {},
   "outputs": [
    {
     "name": "stdout",
     "output_type": "stream",
     "text": [
      "0.8360506658527163\n",
      "2.5831514271094234\n",
      "0.8335412372688292\n"
     ]
    }
   ],
   "source": [
    "from sklearn.metrics import r2_score,mean_squared_error\n",
    "import numpy as np\n",
    " \n",
    "r2=r2_score(Y_test,Y_pred)\n",
    "print(r2)\n",
    " \n",
    "rmse=np.sqrt(mean_squared_error(Y_test,Y_pred))\n",
    "print(rmse)\n",
    " \n",
    "adjusted_r_squared = 1 - (1-r2)*(len(Y)-1)/(len(Y)-X.shape[1]-1)\n",
    "print(adjusted_r_squared)"
   ]
  },
  {
   "cell_type": "code",
   "execution_count": null,
   "metadata": {},
   "outputs": [],
   "source": []
  },
  {
   "cell_type": "code",
   "execution_count": 46,
   "metadata": {},
   "outputs": [
    {
     "name": "stdout",
     "output_type": "stream",
     "text": [
      "3.29185419186053\n",
      "[ 0.04373331  0.19174995 -0.01973604]\n"
     ]
    }
   ],
   "source": [
    "from sklearn.linear_model import ElasticNet\n",
    "#create a model object\n",
    "EN = ElasticNet(alpha=1, l1_ratio=0)    #Hyperparameter\n",
    "#train the model object\n",
    "EN.fit(X_train,Y_train)\n",
    "\n",
    "#print intercept and coefficients\n",
    "print(EN.intercept_)    #Parameter\n",
    "print(EN.coef_)"
   ]
  },
  {
   "cell_type": "code",
   "execution_count": 47,
   "metadata": {},
   "outputs": [],
   "source": [
    "Y_pred = EN.predict(X_test)"
   ]
  },
  {
   "cell_type": "code",
   "execution_count": 48,
   "metadata": {},
   "outputs": [
    {
     "name": "stdout",
     "output_type": "stream",
     "text": [
      "0.8354131997716465\n",
      "2.588168446200207\n",
      "0.8328940140538657\n"
     ]
    }
   ],
   "source": [
    "from sklearn.metrics import r2_score,mean_squared_error\n",
    "import numpy as np\n",
    " \n",
    "r2=r2_score(Y_test,Y_pred)\n",
    "print(r2)\n",
    " \n",
    "rmse=np.sqrt(mean_squared_error(Y_test,Y_pred))\n",
    "print(rmse)\n",
    " \n",
    "adjusted_r_squared = 1 - (1-r2)*(len(Y)-1)/(len(Y)-X.shape[1]-1)\n",
    "print(adjusted_r_squared)"
   ]
  },
  {
   "cell_type": "markdown",
   "metadata": {},
   "source": [
    "Statistic Model"
   ]
  },
  {
   "cell_type": "code",
   "execution_count": 49,
   "metadata": {},
   "outputs": [],
   "source": [
    "#OLS-->OLS(Y_train, X_train)\n",
    "#ols-->ols(Y~X1+X2+X3)"
   ]
  },
  {
   "cell_type": "code",
   "execution_count": 50,
   "metadata": {},
   "outputs": [],
   "source": [
    "#fit(X_train, Y_train)-->sklearn\n",
    "#Y~X1+X2+X3,data=df-->statsmodels"
   ]
  },
  {
   "cell_type": "code",
   "execution_count": 51,
   "metadata": {},
   "outputs": [
    {
     "data": {
      "text/plain": [
       "(160, 4)"
      ]
     },
     "execution_count": 51,
     "metadata": {},
     "output_type": "execute_result"
    }
   ],
   "source": [
    "new_df = pd.DataFrame()\n",
    "new_df = X_train.copy()\n",
    "\n",
    "new_df[\"sales\"]=Y_train.copy()\n",
    "new_df.shape"
   ]
  },
  {
   "cell_type": "code",
   "execution_count": 52,
   "metadata": {},
   "outputs": [
    {
     "name": "stdout",
     "output_type": "stream",
     "text": [
      "Intercept    3.353291\n",
      "TV           0.043743\n",
      "radio        0.193037\n",
      "newspaper   -0.048951\n",
      "dtype: float64\n",
      "                            OLS Regression Results                            \n",
      "==============================================================================\n",
      "Dep. Variable:                  sales   R-squared:                       0.921\n",
      "Model:                            OLS   Adj. R-squared:                  0.919\n",
      "Method:                 Least Squares   F-statistic:                     605.4\n",
      "Date:                Sun, 24 Dec 2023   Prob (F-statistic):           1.10e-85\n",
      "Time:                        20:55:46   Log-Likelihood:                -276.63\n",
      "No. Observations:                 160   AIC:                             561.3\n",
      "Df Residuals:                     156   BIC:                             573.6\n",
      "Df Model:                           3                                         \n",
      "Covariance Type:            nonrobust                                         \n",
      "==============================================================================\n",
      "                 coef    std err          t      P>|t|      [0.025      0.975]\n",
      "------------------------------------------------------------------------------\n",
      "Intercept      3.3533      0.442      7.578      0.000       2.479       4.227\n",
      "TV             0.0437      0.001     32.516      0.000       0.041       0.046\n",
      "radio          0.1930      0.008     24.946      0.000       0.178       0.208\n",
      "newspaper     -0.0490      0.125     -0.391      0.697      -0.297       0.199\n",
      "==============================================================================\n",
      "Omnibus:                       12.594   Durbin-Watson:                   2.106\n",
      "Prob(Omnibus):                  0.002   Jarque-Bera (JB):               13.403\n",
      "Skew:                          -0.699   Prob(JB):                      0.00123\n",
      "Kurtosis:                       3.237   Cond. No.                         697.\n",
      "==============================================================================\n",
      "\n",
      "Warnings:\n",
      "[1] Standard Errors assume that the covariance matrix of the errors is correctly specified.\n"
     ]
    },
    {
     "data": {
      "text/plain": [
       "'\\n3.3532913858151527\\n[ 0.0437425   0.19303708 -0.04895137]\\n \\n'"
      ]
     },
     "execution_count": 52,
     "metadata": {},
     "output_type": "execute_result"
    }
   ],
   "source": [
    "import statsmodels.formula.api as sm\n",
    " \n",
    "# create a fitted model with all three features\n",
    "lm_model = sm.ols(formula='sales ~ TV + radio + newspaper', \n",
    "                  data=new_df).fit()\n",
    " \n",
    "# print the coefficients\n",
    "print(lm_model.params)\n",
    "print(lm_model.summary())\n",
    " \n",
    "\"\"\"\n",
    "3.3532913858151527\n",
    "[ 0.0437425   0.19303708 -0.04895137]\n",
    " \n",
    "\"\"\""
   ]
  },
  {
   "cell_type": "code",
   "execution_count": 53,
   "metadata": {},
   "outputs": [],
   "source": [
    "Y_pred = lm_model.predict(X_test)"
   ]
  },
  {
   "cell_type": "code",
   "execution_count": 54,
   "metadata": {},
   "outputs": [
    {
     "name": "stdout",
     "output_type": "stream",
     "text": [
      "0.8348010719035377\n",
      "2.5929769110930154\n",
      "0.832272516881653\n"
     ]
    }
   ],
   "source": [
    "from sklearn.metrics import r2_score,mean_squared_error\n",
    "import numpy as np\n",
    " \n",
    "r2=r2_score(Y_test,Y_pred)\n",
    "print(r2)\n",
    " \n",
    "rmse=np.sqrt(mean_squared_error(Y_test,Y_pred))\n",
    "print(rmse)\n",
    " \n",
    "adjusted_r_squared = 1 - (1-r2)*(len(Y)-1)/(len(Y)-X.shape[1]-1)\n",
    "print(adjusted_r_squared)"
   ]
  },
  {
   "cell_type": "code",
   "execution_count": 55,
   "metadata": {},
   "outputs": [
    {
     "name": "stdout",
     "output_type": "stream",
     "text": [
      "Intercept    3.217026\n",
      "TV           0.043721\n",
      "radio        0.192425\n",
      "dtype: float64\n",
      "                            OLS Regression Results                            \n",
      "==============================================================================\n",
      "Dep. Variable:                  sales   R-squared:                       0.921\n",
      "Model:                            OLS   Adj. R-squared:                  0.920\n",
      "Method:                 Least Squares   F-statistic:                     912.9\n",
      "Date:                Sun, 24 Dec 2023   Prob (F-statistic):           3.47e-87\n",
      "Time:                        20:55:46   Log-Likelihood:                -276.70\n",
      "No. Observations:                 160   AIC:                             559.4\n",
      "Df Residuals:                     157   BIC:                             568.6\n",
      "Df Model:                           2                                         \n",
      "Covariance Type:            nonrobust                                         \n",
      "==============================================================================\n",
      "                 coef    std err          t      P>|t|      [0.025      0.975]\n",
      "------------------------------------------------------------------------------\n",
      "Intercept      3.2170      0.271     11.855      0.000       2.681       3.753\n",
      "TV             0.0437      0.001     32.616      0.000       0.041       0.046\n",
      "radio          0.1924      0.008     25.462      0.000       0.177       0.207\n",
      "==============================================================================\n",
      "Omnibus:                       12.555   Durbin-Watson:                   2.100\n",
      "Prob(Omnibus):                  0.002   Jarque-Bera (JB):               13.347\n",
      "Skew:                          -0.697   Prob(JB):                      0.00126\n",
      "Kurtosis:                       3.241   Cond. No.                         418.\n",
      "==============================================================================\n",
      "\n",
      "Warnings:\n",
      "[1] Standard Errors assume that the covariance matrix of the errors is correctly specified.\n"
     ]
    }
   ],
   "source": [
    "import statsmodels.formula.api as sm\n",
    " \n",
    "# create a fitted model with all three features\n",
    "lm_model = sm.ols(formula='sales ~ TV + radio', \n",
    "                  data=new_df).fit()\n",
    " \n",
    "# print the coefficients\n",
    "print(lm_model.params)\n",
    "print(lm_model.summary())"
   ]
  },
  {
   "cell_type": "code",
   "execution_count": 56,
   "metadata": {},
   "outputs": [],
   "source": [
    "Y_pred = lm_model.predict(X_test)"
   ]
  },
  {
   "cell_type": "code",
   "execution_count": 57,
   "metadata": {},
   "outputs": [
    {
     "name": "stdout",
     "output_type": "stream",
     "text": [
      "0.8354496662944217\n",
      "2.5878817077378105\n",
      "0.8329310387377037\n"
     ]
    }
   ],
   "source": [
    "from sklearn.metrics import r2_score,mean_squared_error\n",
    "import numpy as np\n",
    " \n",
    "r2=r2_score(Y_test,Y_pred)\n",
    "print(r2)\n",
    " \n",
    "rmse=np.sqrt(mean_squared_error(Y_test,Y_pred))\n",
    "print(rmse)\n",
    " \n",
    "adjusted_r_squared = 1 - (1-r2)*(len(Y)-1)/(len(Y)-X.shape[1]-1)\n",
    "print(adjusted_r_squared)"
   ]
  },
  {
   "cell_type": "code",
   "execution_count": 58,
   "metadata": {},
   "outputs": [
    {
     "data": {
      "image/png": "[encoded data removed]",
      "text/plain": [
       "<Figure size 432x288 with 1 Axes>"
      ]
     },
     "metadata": {
      "needs_background": "light"
     },
     "output_type": "display_data"
    }
   ],
   "source": [
    "#Assumption: Errors should be random\n",
    "#checked using Residual v/s Fitted plot\n",
    "model_fitted_y = lm_model.fittedvalues\n",
    "sns.residplot(x=model_fitted_y, y='sales', data=new_df, lowess=True)\n",
    "plt.xlabel('Fitted values')\n",
    "plt.ylabel('Residuals')\n",
    "plt.show()"
   ]
  },
  {
   "cell_type": "markdown",
   "metadata": {},
   "source": [
    "We should get a ramdom line generated it should not show a repeated or wave like pattern pattern "
   ]
  },
  {
   "cell_type": "code",
   "execution_count": 59,
   "metadata": {},
   "outputs": [
    {
     "data": {
      "image/png": "[encoded data removed]",
      "text/plain": [
       "<Figure size 432x288 with 1 Axes>"
      ]
     },
     "metadata": {
      "needs_background": "light"
     },
     "output_type": "display_data"
    }
   ],
   "source": [
    "#Assumption: Errors should follow a approximate normal distribution\n",
    "#checked using Normal QQ plot\n",
    "import statsmodels.api as sma\n",
    "sma.qqplot(lm_model.resid, line='s')\n",
    "plt.show()"
   ]
  },
  {
   "cell_type": "markdown",
   "metadata": {},
   "source": [
    "The errors should follow the red line \n",
    "The normal qq plot is used to compare our data with standard normally distributed data (Theratical Quantiles) if the errors or data point follow the red digonal line then it means it follows the normal distribution. "
   ]
  },
  {
   "cell_type": "code",
   "execution_count": 60,
   "metadata": {},
   "outputs": [
    {
     "data": {
      "image/png": "[encoded data removed]",
      "text/plain": [
       "<Figure size 432x288 with 1 Axes>"
      ]
     },
     "metadata": {
      "needs_background": "light"
     },
     "output_type": "display_data"
    }
   ],
   "source": [
    "#Assumption: Errors should follow a constant variance-->Homoskedasticity\n",
    "#checked using Scale location plot\n",
    "model_norm_residuals_abs_sqrt=np.sqrt(np.abs(lm_model.resid))\n",
    " \n",
    "sns.regplot(x=lm_model.fittedvalues,\n",
    "            y=model_norm_residuals_abs_sqrt,\n",
    "              scatter=True, lowess=True)        \n",
    "plt.ylabel(\"Standarized residuals\")\n",
    "plt.xlabel(\"Fitted value\")\n",
    "plt.show()"
   ]
  },
  {
   "cell_type": "markdown",
   "metadata": {},
   "source": [
    "We should end up getting an approcimate horizontal line and not a V shaped line or a steep curve."
   ]
  },
  {
   "cell_type": "code",
   "execution_count": null,
   "metadata": {},
   "outputs": [],
   "source": []
  }
 ],
 "metadata": {
  "kernelspec": {
   "display_name": "Python 3",
   "language": "python",
   "name": "python3"
  },
  "language_info": {
   "codemirror_mode": {
    "name": "ipython",
    "version": 3
   },
   "file_extension": ".py",
   "mimetype": "text/x-python",
   "name": "python",
   "nbconvert_exporter": "python",
   "pygments_lexer": "ipython3",
   "version": "3.7.6"
  }
 },
 "nbformat": 4,
 "nbformat_minor": 4
}
